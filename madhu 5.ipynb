{
 "cells": [
  {
   "cell_type": "code",
   "execution_count": 24,
   "id": "4962aed9",
   "metadata": {},
   "outputs": [
    {
     "name": "stdout",
     "output_type": "stream",
     "text": [
      "Enter tha value of 'n': 10\n",
      "Fibonacci series:   0 1 1 2 3 5 8 13 21 34 "
     ]
    }
   ],
   "source": [
    "n = int(input(\"Enter tha value of 'n': \" ))\n",
    "a = 0\n",
    "b = 1\n",
    "sum1= 0\n",
    "count = 1\n",
    "print(\"Fibonacci series: \", end =\"  \"  )\n",
    "while (count <= n):\n",
    "    print (sum1, end = \" \" )\n",
    "    count +=1\n",
    "    a=b\n",
    "    b=sum1\n",
    "    sum1=a+b"
   ]
  },
  {
   "cell_type": "code",
   "execution_count": null,
   "id": "b08c6ec7",
   "metadata": {},
   "outputs": [],
   "source": []
  },
  {
   "cell_type": "code",
   "execution_count": null,
   "id": "cdf422cd",
   "metadata": {},
   "outputs": [],
   "source": []
  },
  {
   "cell_type": "code",
   "execution_count": null,
   "id": "33ca97c3",
   "metadata": {},
   "outputs": [],
   "source": []
  }
 ],
 "metadata": {
  "kernelspec": {
   "display_name": "Python 3 (ipykernel)",
   "language": "python",
   "name": "python3"
  },
  "language_info": {
   "codemirror_mode": {
    "name": "ipython",
    "version": 3
   },
   "file_extension": ".py",
   "mimetype": "text/x-python",
   "name": "python",
   "nbconvert_exporter": "python",
   "pygments_lexer": "ipython3",
   "version": "3.10.1"
  }
 },
 "nbformat": 4,
 "nbformat_minor": 5
}
